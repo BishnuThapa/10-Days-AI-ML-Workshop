{
 "cells": [
  {
   "cell_type": "markdown",
   "id": "e429befd-9dd1-4a38-b16a-8efd7397ee78",
   "metadata": {},
   "source": [
    "# Numpy Fundamental"
   ]
  },
  {
   "cell_type": "code",
   "execution_count": 1,
   "id": "4b7540d8-6704-4aba-bf5a-449ff15d0007",
   "metadata": {},
   "outputs": [
    {
     "name": "stdout",
     "output_type": "stream",
     "text": [
      "Requirement already satisfied: numpy in c:\\users\\thapa\\desktop\\ai ml workshop\\streamlit\\env\\lib\\site-packages (2.2.5)\n"
     ]
    },
    {
     "name": "stderr",
     "output_type": "stream",
     "text": [
      "WARNING: You are using pip version 21.2.4; however, version 25.1 is available.\n",
      "You should consider upgrading via the 'C:\\Users\\thapa\\Desktop\\AI ML Workshop\\streamlit\\env\\Scripts\\python.exe -m pip install --upgrade pip' command.\n"
     ]
    }
   ],
   "source": [
    "!pip install numpy"
   ]
  },
  {
   "cell_type": "code",
   "execution_count": 2,
   "id": "a07e3f8c-2549-44e5-97d1-947936fd9dcf",
   "metadata": {},
   "outputs": [],
   "source": [
    "import numpy as np"
   ]
  },
  {
   "cell_type": "code",
   "execution_count": 3,
   "id": "1dc669df-d643-44e7-bed0-f10cad9a5638",
   "metadata": {},
   "outputs": [],
   "source": [
    "arr1=np.array([1,2,3,4,5])"
   ]
  },
  {
   "cell_type": "code",
   "execution_count": 4,
   "id": "1fa84c91-4e90-4380-96ce-968e21131584",
   "metadata": {},
   "outputs": [
    {
     "name": "stdout",
     "output_type": "stream",
     "text": [
      "1D Array [1 2 3 4 5]\n"
     ]
    }
   ],
   "source": [
    "print(\"1D Array\",arr1)"
   ]
  },
  {
   "cell_type": "code",
   "execution_count": null,
   "id": "b78b26e0-915a-44be-b7c8-96f46a987faf",
   "metadata": {},
   "outputs": [],
   "source": []
  },
  {
   "cell_type": "code",
   "execution_count": 6,
   "id": "6562d207-9107-4ca4-9f4b-fadd6797a59d",
   "metadata": {},
   "outputs": [
    {
     "name": "stdout",
     "output_type": "stream",
     "text": [
      "2D Array:\n",
      " [[1 2]\n",
      " [3 4]]\n"
     ]
    }
   ],
   "source": [
    "arr2=np.array([[1,2],[3,4]])\n",
    "print(\"2D Array:\\n\",arr2)"
   ]
  },
  {
   "cell_type": "code",
   "execution_count": null,
   "id": "105c221e-202e-4fc8-8d0e-ecce435f8251",
   "metadata": {},
   "outputs": [],
   "source": []
  },
  {
   "cell_type": "code",
   "execution_count": 3,
   "id": "3aa57c5e-c2a5-418d-933b-a5f0d5a40324",
   "metadata": {
    "scrolled": true
   },
   "outputs": [],
   "source": [
    "import numpy as np\n",
    "arr=np.array([[1,2,3],[4,5,6]])"
   ]
  },
  {
   "cell_type": "code",
   "execution_count": 4,
   "id": "66dad750-1c22-42fe-a85d-ffac6eb8a307",
   "metadata": {},
   "outputs": [
    {
     "name": "stdout",
     "output_type": "stream",
     "text": [
      "Array\n",
      " [[1 2 3]\n",
      " [4 5 6]]\n"
     ]
    }
   ],
   "source": [
    "print(\"Array\\n\",arr)"
   ]
  },
  {
   "cell_type": "code",
   "execution_count": 5,
   "id": "dde3c9d4-009d-4c59-a086-bc8008a1ed83",
   "metadata": {},
   "outputs": [
    {
     "name": "stdout",
     "output_type": "stream",
     "text": [
      "Shape: (2, 3)\n"
     ]
    }
   ],
   "source": [
    "print(\"Shape:\",arr.shape)"
   ]
  },
  {
   "cell_type": "code",
   "execution_count": 8,
   "id": "66528d62-214d-46d4-83bd-1eec2a07edc3",
   "metadata": {},
   "outputs": [
    {
     "name": "stdout",
     "output_type": "stream",
     "text": [
      "Dimenaions: 2\n"
     ]
    }
   ],
   "source": [
    "print(\"Dimenaions:\",arr.ndim)"
   ]
  },
  {
   "cell_type": "code",
   "execution_count": 7,
   "id": "7af70012-aeee-4b91-a25b-f94f1de1cf37",
   "metadata": {},
   "outputs": [
    {
     "name": "stdout",
     "output_type": "stream",
     "text": [
      "DataType: int64\n"
     ]
    }
   ],
   "source": [
    "print(\"DataType:\",arr.dtype)"
   ]
  },
  {
   "cell_type": "code",
   "execution_count": null,
   "id": "873af3b6-9239-428c-ba7f-18edbd63c5e8",
   "metadata": {},
   "outputs": [],
   "source": [
    "\n"
   ]
  },
  {
   "cell_type": "markdown",
   "id": "61bc6cf2-351b-43c6-a61d-bb3b05671f2a",
   "metadata": {},
   "source": [
    "# 3D Array"
   ]
  },
  {
   "cell_type": "code",
   "execution_count": 19,
   "id": "fb5738b7-cda6-4f58-aab6-fa4a20559a51",
   "metadata": {},
   "outputs": [],
   "source": [
    "arr_3d=np.array([[[1,2],[3,4]],[[5,6],[7,8]]])"
   ]
  },
  {
   "cell_type": "code",
   "execution_count": 21,
   "id": "681cd295-b357-43b8-9e0c-48a71740c2eb",
   "metadata": {},
   "outputs": [
    {
     "name": "stdout",
     "output_type": "stream",
     "text": [
      "3 Dim Array\n",
      " [[[1 2]\n",
      "  [3 4]]\n",
      "\n",
      " [[5 6]\n",
      "  [7 8]]]\n"
     ]
    }
   ],
   "source": [
    "print(\"3 Dim Array\\n\",arr_3d)"
   ]
  },
  {
   "cell_type": "code",
   "execution_count": 23,
   "id": "4892fb71-4579-413b-aa74-6f763bdd3d6f",
   "metadata": {},
   "outputs": [
    {
     "name": "stdout",
     "output_type": "stream",
     "text": [
      "Dimention: 3\n"
     ]
    }
   ],
   "source": [
    "print(\"Dimention:\",arr_3d.ndim)"
   ]
  },
  {
   "cell_type": "code",
   "execution_count": 24,
   "id": "a1bf956a-f101-41c1-9430-05b42218db89",
   "metadata": {},
   "outputs": [
    {
     "name": "stdout",
     "output_type": "stream",
     "text": [
      "Shape: (2, 2, 2)\n"
     ]
    }
   ],
   "source": [
    "print(\"Shape:\",arr_3d.shape)"
   ]
  },
  {
   "cell_type": "code",
   "execution_count": null,
   "id": "f94811a8-1be3-4fd4-b1a0-7c51e246b6a5",
   "metadata": {},
   "outputs": [],
   "source": []
  },
  {
   "cell_type": "markdown",
   "id": "de8407d3-486a-4092-aa0d-f090235f7548",
   "metadata": {},
   "source": [
    "# Array Creation Funtions"
   ]
  },
  {
   "cell_type": "code",
   "execution_count": 26,
   "id": "b9acc64c-59f7-4783-80a4-9e35c156e367",
   "metadata": {},
   "outputs": [
    {
     "name": "stdout",
     "output_type": "stream",
     "text": [
      "Zeros\n",
      " [[0. 0. 0.]\n",
      " [0. 0. 0.]]\n"
     ]
    }
   ],
   "source": [
    "zeros=np.zeros((2,3))\n",
    "print(\"Zeros\\n\",zeros)"
   ]
  },
  {
   "cell_type": "code",
   "execution_count": 29,
   "id": "9de02d61-2718-4542-b0fa-7fbfdb91e25c",
   "metadata": {},
   "outputs": [
    {
     "name": "stdout",
     "output_type": "stream",
     "text": [
      "Ones\n",
      " [[1. 1. 1.]\n",
      " [1. 1. 1.]\n",
      " [1. 1. 1.]]\n"
     ]
    }
   ],
   "source": [
    "ones=np.ones((3,3))\n",
    "print(\"Ones\\n\",ones)"
   ]
  },
  {
   "cell_type": "code",
   "execution_count": null,
   "id": "0142865a-37d6-4806-9eff-ddac38c41fa8",
   "metadata": {},
   "outputs": [],
   "source": []
  },
  {
   "cell_type": "markdown",
   "id": "b66d3ba5-7f98-4834-96b0-341fcb5f2f4d",
   "metadata": {},
   "source": [
    "## Range of values"
   ]
  },
  {
   "cell_type": "code",
   "execution_count": 33,
   "id": "9b3bc792-9953-4850-adb4-fe8290b5cd37",
   "metadata": {},
   "outputs": [
    {
     "name": "stdout",
     "output_type": "stream",
     "text": [
      "Range: [0 2 4 6 8]\n"
     ]
    }
   ],
   "source": [
    "range_arr=np.arange(0,10,2) # 0-10 value and 2 is step\n",
    "print(\"Range:\", range_arr)"
   ]
  },
  {
   "cell_type": "code",
   "execution_count": null,
   "id": "762a9a80-929d-4cf9-b4c0-0841e44c4f83",
   "metadata": {},
   "outputs": [],
   "source": []
  },
  {
   "cell_type": "code",
   "execution_count": null,
   "id": "04c3536e-434a-4fe2-b67a-6a98137495ad",
   "metadata": {},
   "outputs": [],
   "source": []
  },
  {
   "cell_type": "markdown",
   "id": "3dc7a9d5-8062-46f9-aae1-0722e6cacf6c",
   "metadata": {},
   "source": [
    "# Array Operations"
   ]
  },
  {
   "cell_type": "code",
   "execution_count": 36,
   "id": "19cd0ebf-b2ad-4c62-9ac4-4bfae3cd5e85",
   "metadata": {},
   "outputs": [
    {
     "name": "stdout",
     "output_type": "stream",
     "text": [
      "Original Array\n",
      " [1 2 3 4 5]\n"
     ]
    }
   ],
   "source": [
    "arr=np.array([1,2,3,4,5])\n",
    "print(\"Original Array\\n\",arr)"
   ]
  },
  {
   "cell_type": "code",
   "execution_count": 37,
   "id": "470d3303-8786-4824-8523-8be7713bb32a",
   "metadata": {},
   "outputs": [
    {
     "name": "stdout",
     "output_type": "stream",
     "text": [
      "Add 5\n",
      " [ 6  7  8  9 10]\n"
     ]
    }
   ],
   "source": [
    "print(\"Add 5\\n\",arr+5)"
   ]
  },
  {
   "cell_type": "code",
   "execution_count": 40,
   "id": "6d930bf9-ff24-47fc-ada9-2364dc95e6b2",
   "metadata": {},
   "outputs": [
    {
     "name": "stdout",
     "output_type": "stream",
     "text": [
      "Multiply by 2\n",
      " [ 2  4  6  8 10]\n"
     ]
    }
   ],
   "source": [
    "print(\"Multiply by 2\\n\",arr*2)"
   ]
  },
  {
   "cell_type": "code",
   "execution_count": 41,
   "id": "ac71635a-3ec8-4163-9472-5ab55dadc24c",
   "metadata": {},
   "outputs": [
    {
     "name": "stdout",
     "output_type": "stream",
     "text": [
      "Square\n",
      " [ 1  4  9 16 25]\n"
     ]
    }
   ],
   "source": [
    "print(\"Square\\n\",arr**2)"
   ]
  },
  {
   "cell_type": "code",
   "execution_count": null,
   "id": "559290ff-0029-4f66-bb70-ed7191ab21f4",
   "metadata": {},
   "outputs": [],
   "source": []
  },
  {
   "cell_type": "markdown",
   "id": "44f91e46-14b6-4224-9410-64aaf1b7aff0",
   "metadata": {},
   "source": [
    "# Reshaping Array"
   ]
  },
  {
   "cell_type": "code",
   "execution_count": 43,
   "id": "163c49a9-c02e-4a1e-b33b-5b3e1ec185f5",
   "metadata": {},
   "outputs": [],
   "source": [
    "import numpy as np"
   ]
  },
  {
   "cell_type": "code",
   "execution_count": 44,
   "id": "e327bd90-64f8-4b3c-ad51-b1284708ea8e",
   "metadata": {},
   "outputs": [
    {
     "name": "stdout",
     "output_type": "stream",
     "text": [
      "Reshaping Array\n",
      " [[1 2 3]\n",
      " [4 5 6]]\n"
     ]
    }
   ],
   "source": [
    "arr=np.array([1,2,3,4,5,6])\n",
    "print(\"Reshaping Array\\n\", arr.reshape(2,3))"
   ]
  },
  {
   "cell_type": "code",
   "execution_count": null,
   "id": "b2806fbe-5beb-4313-bd72-c7277d6a2b6d",
   "metadata": {},
   "outputs": [],
   "source": []
  }
 ],
 "metadata": {
  "kernelspec": {
   "display_name": "Python 3 (ipykernel)",
   "language": "python",
   "name": "python3"
  },
  "language_info": {
   "codemirror_mode": {
    "name": "ipython",
    "version": 3
   },
   "file_extension": ".py",
   "mimetype": "text/x-python",
   "name": "python",
   "nbconvert_exporter": "python",
   "pygments_lexer": "ipython3",
   "version": "3.10.1"
  }
 },
 "nbformat": 4,
 "nbformat_minor": 5
}
