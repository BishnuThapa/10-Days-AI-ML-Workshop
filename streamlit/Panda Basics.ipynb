{
 "cells": [
  {
   "cell_type": "code",
   "execution_count": 1,
   "id": "070a75d4-6753-47e1-9325-274aa44dc3fa",
   "metadata": {},
   "outputs": [],
   "source": [
    "import pandas as pd"
   ]
  },
  {
   "cell_type": "code",
   "execution_count": 6,
   "id": "ec1f1def-c981-44d8-b4ec-d7b8449d1077",
   "metadata": {},
   "outputs": [],
   "source": [
    "data={\n",
    "    'Name':['Ram','Shyam','Sita','Hari'],\n",
    "    'Age':[55,35,25,36],\n",
    "    'City':['KTM','Butwal','Bharatpur','Pokhara']\n",
    "}"
   ]
  },
  {
   "cell_type": "code",
   "execution_count": 7,
   "id": "d042e842-bdbd-4408-a1a5-9c818b6b54a4",
   "metadata": {},
   "outputs": [
    {
     "name": "stdout",
     "output_type": "stream",
     "text": [
      "    Name  Age       City\n",
      "0    Ram   55        KTM\n",
      "1  Shyam   35     Butwal\n",
      "2   Sita   25  Bharatpur\n",
      "3   Hari   36    Pokhara\n"
     ]
    }
   ],
   "source": [
    "df=pd.DataFrame(data)\n",
    "print(df)"
   ]
  },
  {
   "cell_type": "code",
   "execution_count": 8,
   "id": "4d667952-7b80-4895-b25b-93965c965d8f",
   "metadata": {},
   "outputs": [
    {
     "name": "stdout",
     "output_type": "stream",
     "text": [
      "<class 'pandas.core.frame.DataFrame'>\n",
      "RangeIndex: 4 entries, 0 to 3\n",
      "Data columns (total 3 columns):\n",
      " #   Column  Non-Null Count  Dtype \n",
      "---  ------  --------------  ----- \n",
      " 0   Name    4 non-null      object\n",
      " 1   Age     4 non-null      int64 \n",
      " 2   City    4 non-null      object\n",
      "dtypes: int64(1), object(2)\n",
      "memory usage: 224.0+ bytes\n",
      "None\n"
     ]
    }
   ],
   "source": [
    "print(df.info())"
   ]
  },
  {
   "cell_type": "code",
   "execution_count": 9,
   "id": "44db94be-8dfd-4f07-9339-57679b107671",
   "metadata": {},
   "outputs": [
    {
     "name": "stdout",
     "output_type": "stream",
     "text": [
      "             Age\n",
      "count   4.000000\n",
      "mean   37.750000\n",
      "std    12.526638\n",
      "min    25.000000\n",
      "25%    32.500000\n",
      "50%    35.500000\n",
      "75%    40.750000\n",
      "max    55.000000\n"
     ]
    }
   ],
   "source": [
    "print(df.describe())"
   ]
  },
  {
   "cell_type": "code",
   "execution_count": 10,
   "id": "58c98413-3565-437c-9ca2-4c6a8f55b596",
   "metadata": {},
   "outputs": [
    {
     "data": {
      "text/plain": [
       "0    55\n",
       "1    35\n",
       "2    25\n",
       "3    36\n",
       "Name: Age, dtype: int64"
      ]
     },
     "execution_count": 10,
     "metadata": {},
     "output_type": "execute_result"
    }
   ],
   "source": [
    "df['Age']"
   ]
  },
  {
   "cell_type": "code",
   "execution_count": null,
   "id": "365940a1-9d72-4e33-8d27-0492e27da4e7",
   "metadata": {},
   "outputs": [],
   "source": []
  },
  {
   "cell_type": "markdown",
   "id": "843ddd55-7182-4025-8669-1ea286c4150b",
   "metadata": {},
   "source": [
    "# LOC (Label-based Indexing)"
   ]
  },
  {
   "cell_type": "code",
   "execution_count": 12,
   "id": "3533ab79-e064-4efd-a044-c5c403bd4866",
   "metadata": {},
   "outputs": [
    {
     "name": "stdout",
     "output_type": "stream",
     "text": [
      "    Name  Age       City\n",
      "a    Ram   55        KTM\n",
      "b  Shyam   35     Butwal\n",
      "c   Sita   25  Bharatpur\n",
      "d   Hari   36    Pokhara\n"
     ]
    }
   ],
   "source": [
    "import pandas as pd\n",
    "df=pd.DataFrame({\n",
    "    'Name':['Ram','Shyam','Sita','Hari'],\n",
    "    'Age':[55,35,25,36],\n",
    "    'City':['KTM','Butwal','Bharatpur','Pokhara']\n",
    "},index=['a','b','c','d'])\n",
    "print(df)"
   ]
  },
  {
   "cell_type": "markdown",
   "id": "01fb0bc4-7253-40df-89ec-d6fde0394885",
   "metadata": {},
   "source": [
    "# output as csv file"
   ]
  },
  {
   "cell_type": "code",
   "execution_count": 16,
   "id": "8137c32b-745c-4e70-9d54-597df1df6677",
   "metadata": {},
   "outputs": [],
   "source": [
    "df.to_csv('demo1.csv',index=False) # don't show a,b,c,d index in output"
   ]
  },
  {
   "cell_type": "code",
   "execution_count": null,
   "id": "25ea2a41-b42c-4df7-8764-56857d8b85de",
   "metadata": {},
   "outputs": [],
   "source": []
  },
  {
   "cell_type": "code",
   "execution_count": 17,
   "id": "1e625bc4-1af3-414f-970d-770f9543d686",
   "metadata": {},
   "outputs": [
    {
     "name": "stdout",
     "output_type": "stream",
     "text": [
      "Name     Shyam\n",
      "Age         35\n",
      "City    Butwal\n",
      "Name: b, dtype: object\n"
     ]
    }
   ],
   "source": [
    "print(df.loc['b'])"
   ]
  },
  {
   "cell_type": "code",
   "execution_count": 20,
   "id": "21b9345f-6397-4e45-a0be-78b77652aaa7",
   "metadata": {},
   "outputs": [
    {
     "name": "stdout",
     "output_type": "stream",
     "text": [
      "Name    Shyam\n",
      "Age        35\n",
      "Name: b, dtype: object\n"
     ]
    }
   ],
   "source": [
    "print(df.loc['b',['Name','Age']])"
   ]
  },
  {
   "cell_type": "code",
   "execution_count": null,
   "id": "73e19d3a-5842-4199-b45c-4f4bed254bff",
   "metadata": {},
   "outputs": [],
   "source": []
  },
  {
   "cell_type": "code",
   "execution_count": 25,
   "id": "8c162af7-9b3b-447f-b308-9c75ef307b2a",
   "metadata": {},
   "outputs": [
    {
     "name": "stdout",
     "output_type": "stream",
     "text": [
      "    Name  Age       City\n",
      "a    Ram   55        KTM\n",
      "b  Shyam   35     Butwal\n",
      "c   Sita   25  Bharatpur\n",
      "d   Hari   36    Pokhara\n"
     ]
    }
   ],
   "source": [
    "print(df.loc['a':'d'])"
   ]
  },
  {
   "cell_type": "code",
   "execution_count": null,
   "id": "ff0a0fd0-5eed-4f17-b103-840d9ce35413",
   "metadata": {},
   "outputs": [],
   "source": []
  },
  {
   "cell_type": "markdown",
   "id": "c98d386a-a52b-4727-9edd-d3d9f8bed01e",
   "metadata": {},
   "source": [
    "# Integer Position based indexing"
   ]
  },
  {
   "cell_type": "code",
   "execution_count": 29,
   "id": "fd17db0e-57a3-4dc7-b87f-3eced6603e88",
   "metadata": {},
   "outputs": [
    {
     "name": "stdout",
     "output_type": "stream",
     "text": [
      "Name     Shyam\n",
      "Age         35\n",
      "City    Butwal\n",
      "Name: 1, dtype: object\n"
     ]
    }
   ],
   "source": [
    "data={\n",
    "    'Name':['Ram','Shyam','Sita','Hari'],\n",
    "    'Age':[55,35,25,36],\n",
    "    'City':['KTM','Butwal','Bharatpur','Pokhara']\n",
    "}\n",
    "df=pd.DataFrame(data)\n",
    "\n",
    "print(df.iloc[1])"
   ]
  },
  {
   "cell_type": "code",
   "execution_count": 31,
   "id": "9b34c627-f14b-4cc1-900d-640d36ebbc80",
   "metadata": {},
   "outputs": [
    {
     "name": "stdout",
     "output_type": "stream",
     "text": [
      "   Name  Age     City\n",
      "0   Ram   55      KTM\n",
      "3  Hari   36  Pokhara\n"
     ]
    }
   ],
   "source": [
    "print(df.iloc[[0,3]]) #First and forth index value"
   ]
  },
  {
   "cell_type": "code",
   "execution_count": 34,
   "id": "70d38abb-c588-4fc6-83d5-9bb88edcd8f6",
   "metadata": {},
   "outputs": [
    {
     "name": "stdout",
     "output_type": "stream",
     "text": [
      "35\n"
     ]
    }
   ],
   "source": [
    "print(df.iloc[1,1]) #1 index 1th value(second row, second item)"
   ]
  },
  {
   "cell_type": "code",
   "execution_count": null,
   "id": "303e2095-8bfa-45dc-95a4-5453c8d575bf",
   "metadata": {},
   "outputs": [],
   "source": []
  },
  {
   "cell_type": "markdown",
   "id": "fd6e2652-1a95-446d-9ad1-d41c62b91d17",
   "metadata": {},
   "source": [
    "# FIltering"
   ]
  },
  {
   "cell_type": "code",
   "execution_count": 37,
   "id": "bf9b4abe-d9e6-4652-bb00-cd28bdc7ba34",
   "metadata": {},
   "outputs": [
    {
     "name": "stdout",
     "output_type": "stream",
     "text": [
      "    Name  Age     City\n",
      "0    Ram   55      KTM\n",
      "1  Shyam   35   Butwal\n",
      "3   Hari   36  Pokhara\n"
     ]
    }
   ],
   "source": [
    "adults=df[df['Age'] > 30] #filtering by age greater than 30\n",
    "print(adults)"
   ]
  },
  {
   "cell_type": "code",
   "execution_count": null,
   "id": "e50f0f1f-b732-458a-a051-8d0d3fee95bd",
   "metadata": {},
   "outputs": [],
   "source": []
  },
  {
   "cell_type": "markdown",
   "id": "2ed5a111-4315-436f-bf36-42862ee84ac1",
   "metadata": {},
   "source": [
    "# Data Append and Sorting"
   ]
  },
  {
   "cell_type": "code",
   "execution_count": 38,
   "id": "657af98a-1c2f-46f2-8f0d-2c3f63ae35cf",
   "metadata": {},
   "outputs": [],
   "source": [
    "df['Country']='Nepal'"
   ]
  },
  {
   "cell_type": "code",
   "execution_count": 39,
   "id": "5127f694-fbe1-416d-87a8-8b558f2be39b",
   "metadata": {},
   "outputs": [
    {
     "name": "stdout",
     "output_type": "stream",
     "text": [
      "    Name  Age       City Country\n",
      "0    Ram   55        KTM   Nepal\n",
      "1  Shyam   35     Butwal   Nepal\n",
      "2   Sita   25  Bharatpur   Nepal\n",
      "3   Hari   36    Pokhara   Nepal\n"
     ]
    }
   ],
   "source": [
    "print(df)"
   ]
  },
  {
   "cell_type": "code",
   "execution_count": null,
   "id": "e618a30e-d154-4d89-b042-65777b436745",
   "metadata": {},
   "outputs": [],
   "source": []
  },
  {
   "cell_type": "code",
   "execution_count": 43,
   "id": "02b6b6d6-298d-4036-8bb1-6a5fc394e7ce",
   "metadata": {},
   "outputs": [
    {
     "name": "stdout",
     "output_type": "stream",
     "text": [
      "    Name  Age       City Country  Age_in_months\n",
      "0    Ram   55        KTM   Nepal            660\n",
      "1  Shyam   35     Butwal   Nepal            420\n",
      "2   Sita   25  Bharatpur   Nepal            300\n",
      "3   Hari   36    Pokhara   Nepal            432\n"
     ]
    }
   ],
   "source": [
    "df['Age_in_months']=df['Age'] *12 # COnvert age into months\n",
    "print(df)"
   ]
  },
  {
   "cell_type": "code",
   "execution_count": null,
   "id": "0fa21317-0515-4d49-8394-529f5c313406",
   "metadata": {},
   "outputs": [],
   "source": []
  },
  {
   "cell_type": "code",
   "execution_count": 48,
   "id": "edb7f9c6-92c0-44c5-9dc3-4b907e9dedf9",
   "metadata": {},
   "outputs": [
    {
     "name": "stdout",
     "output_type": "stream",
     "text": [
      "  Full_Name  Age       City Country  Age_in_months\n",
      "0       Ram   55        KTM   Nepal            660\n",
      "1     Shyam   35     Butwal   Nepal            420\n",
      "2      Sita   25  Bharatpur   Nepal            300\n",
      "3      Hari   36    Pokhara   Nepal            432\n"
     ]
    }
   ],
   "source": [
    "df=df.rename(columns={'Name':'Full_Name'}) # Rename name to fullname\n",
    "print(df)"
   ]
  },
  {
   "cell_type": "code",
   "execution_count": 54,
   "id": "00d28656-ca73-43fb-a840-8e6a2be13990",
   "metadata": {},
   "outputs": [
    {
     "name": "stdout",
     "output_type": "stream",
     "text": [
      "  Full_Name  Age       City Country  Age_in_months\n",
      "0       Ram   55        KTM   Nepal            660\n",
      "3      Hari   36    Pokhara   Nepal            432\n",
      "1     Shyam   35     Butwal   Nepal            420\n",
      "2      Sita   25  Bharatpur   Nepal            300\n"
     ]
    }
   ],
   "source": [
    "df_sort=df.sort_values(by='Age',ascending=False) #Sorting in ascending order\n",
    "print(df_sort)"
   ]
  },
  {
   "cell_type": "markdown",
   "id": "366b9632-48c6-4849-8f87-9710ae7426ef",
   "metadata": {},
   "source": [
    "# Grouping & Aggregration"
   ]
  },
  {
   "cell_type": "code",
   "execution_count": 56,
   "id": "9c0dbdfa-92c0-453a-bb2e-14ea4e1e0d57",
   "metadata": {},
   "outputs": [
    {
     "data": {
      "text/html": [
       "<div>\n",
       "<style scoped>\n",
       "    .dataframe tbody tr th:only-of-type {\n",
       "        vertical-align: middle;\n",
       "    }\n",
       "\n",
       "    .dataframe tbody tr th {\n",
       "        vertical-align: top;\n",
       "    }\n",
       "\n",
       "    .dataframe thead th {\n",
       "        text-align: right;\n",
       "    }\n",
       "</style>\n",
       "<table border=\"1\" class=\"dataframe\">\n",
       "  <thead>\n",
       "    <tr style=\"text-align: right;\">\n",
       "      <th></th>\n",
       "      <th>Category</th>\n",
       "      <th>Value</th>\n",
       "    </tr>\n",
       "  </thead>\n",
       "  <tbody>\n",
       "    <tr>\n",
       "      <th>0</th>\n",
       "      <td>A</td>\n",
       "      <td>10</td>\n",
       "    </tr>\n",
       "    <tr>\n",
       "      <th>1</th>\n",
       "      <td>B</td>\n",
       "      <td>20</td>\n",
       "    </tr>\n",
       "    <tr>\n",
       "      <th>2</th>\n",
       "      <td>A</td>\n",
       "      <td>15</td>\n",
       "    </tr>\n",
       "    <tr>\n",
       "      <th>3</th>\n",
       "      <td>B</td>\n",
       "      <td>25</td>\n",
       "    </tr>\n",
       "    <tr>\n",
       "      <th>4</th>\n",
       "      <td>A</td>\n",
       "      <td>30</td>\n",
       "    </tr>\n",
       "    <tr>\n",
       "      <th>5</th>\n",
       "      <td>C</td>\n",
       "      <td>4</td>\n",
       "    </tr>\n",
       "  </tbody>\n",
       "</table>\n",
       "</div>"
      ],
      "text/plain": [
       "  Category  Value\n",
       "0        A     10\n",
       "1        B     20\n",
       "2        A     15\n",
       "3        B     25\n",
       "4        A     30\n",
       "5        C      4"
      ]
     },
     "execution_count": 56,
     "metadata": {},
     "output_type": "execute_result"
    }
   ],
   "source": [
    "df=pd.DataFrame({\n",
    "    'Category':['A','B','A','B','A','C'],\n",
    "    'Value':[10,20,15,25,30,4]\n",
    "})\n",
    "df"
   ]
  },
  {
   "cell_type": "code",
   "execution_count": 60,
   "id": "b2634ddd-241e-4739-9177-09901114df38",
   "metadata": {},
   "outputs": [
    {
     "name": "stdout",
     "output_type": "stream",
     "text": [
      "          Value\n",
      "Category       \n",
      "A            55\n",
      "B            45\n",
      "C             4\n"
     ]
    }
   ],
   "source": [
    "grouped=df.groupby('Category').sum()\n",
    "print(grouped)"
   ]
  },
  {
   "cell_type": "code",
   "execution_count": 62,
   "id": "9a255116-b5db-4fbd-93ee-ca2c50deb57e",
   "metadata": {},
   "outputs": [
    {
     "name": "stdout",
     "output_type": "stream",
     "text": [
      "         Value                         \n",
      "           sum       mean count min max\n",
      "Category                               \n",
      "A           55  18.333333     3  10  30\n",
      "B           45  22.500000     2  20  25\n",
      "C            4   4.000000     1   4   4\n"
     ]
    }
   ],
   "source": [
    "result=df.groupby('Category').agg(['sum','mean','count','min','max'])\n",
    "print(result)"
   ]
  },
  {
   "cell_type": "code",
   "execution_count": null,
   "id": "849e27f0-8ae1-456f-b1ac-15d7a0e8c227",
   "metadata": {},
   "outputs": [],
   "source": []
  },
  {
   "cell_type": "markdown",
   "id": "25d9e3de-9e21-44ce-88b7-90992c85d693",
   "metadata": {},
   "source": [
    "# Handling Missing Data"
   ]
  },
  {
   "cell_type": "code",
   "execution_count": 2,
   "id": "0e95954b-92d3-4c1b-911f-5c7cd79fa0c3",
   "metadata": {},
   "outputs": [],
   "source": [
    "import pandas as pd\n",
    "import numpy as np"
   ]
  },
  {
   "cell_type": "code",
   "execution_count": 5,
   "id": "4f7b6d12-9e50-49d0-bce8-6a40042214cd",
   "metadata": {},
   "outputs": [],
   "source": [
    "df=pd.DataFrame({\n",
    "    'A':[1,2,np.nan,4],\n",
    "    'B':[5,np.nan,np.nan,8],\n",
    "    'C':['a','b','c',None]\n",
    "})"
   ]
  },
  {
   "cell_type": "code",
   "execution_count": 6,
   "id": "89e5a301-eefe-4570-ad01-02b7ca2ea513",
   "metadata": {},
   "outputs": [
    {
     "data": {
      "text/html": [
       "<div>\n",
       "<style scoped>\n",
       "    .dataframe tbody tr th:only-of-type {\n",
       "        vertical-align: middle;\n",
       "    }\n",
       "\n",
       "    .dataframe tbody tr th {\n",
       "        vertical-align: top;\n",
       "    }\n",
       "\n",
       "    .dataframe thead th {\n",
       "        text-align: right;\n",
       "    }\n",
       "</style>\n",
       "<table border=\"1\" class=\"dataframe\">\n",
       "  <thead>\n",
       "    <tr style=\"text-align: right;\">\n",
       "      <th></th>\n",
       "      <th>A</th>\n",
       "      <th>B</th>\n",
       "      <th>C</th>\n",
       "    </tr>\n",
       "  </thead>\n",
       "  <tbody>\n",
       "    <tr>\n",
       "      <th>0</th>\n",
       "      <td>1.0</td>\n",
       "      <td>5.0</td>\n",
       "      <td>a</td>\n",
       "    </tr>\n",
       "    <tr>\n",
       "      <th>1</th>\n",
       "      <td>2.0</td>\n",
       "      <td>NaN</td>\n",
       "      <td>b</td>\n",
       "    </tr>\n",
       "    <tr>\n",
       "      <th>2</th>\n",
       "      <td>NaN</td>\n",
       "      <td>NaN</td>\n",
       "      <td>c</td>\n",
       "    </tr>\n",
       "    <tr>\n",
       "      <th>3</th>\n",
       "      <td>4.0</td>\n",
       "      <td>8.0</td>\n",
       "      <td>None</td>\n",
       "    </tr>\n",
       "  </tbody>\n",
       "</table>\n",
       "</div>"
      ],
      "text/plain": [
       "     A    B     C\n",
       "0  1.0  5.0     a\n",
       "1  2.0  NaN     b\n",
       "2  NaN  NaN     c\n",
       "3  4.0  8.0  None"
      ]
     },
     "execution_count": 6,
     "metadata": {},
     "output_type": "execute_result"
    }
   ],
   "source": [
    "df"
   ]
  },
  {
   "cell_type": "code",
   "execution_count": 9,
   "id": "313d83cc-442f-4587-9fe6-7796ef1bc0c6",
   "metadata": {},
   "outputs": [
    {
     "name": "stdout",
     "output_type": "stream",
     "text": [
      "       A      B      C\n",
      "0  False  False  False\n",
      "1  False   True  False\n",
      "2   True   True  False\n",
      "3  False  False   True\n"
     ]
    }
   ],
   "source": [
    "print(df.isna()) # check if the value is null,none"
   ]
  },
  {
   "cell_type": "code",
   "execution_count": 21,
   "id": "5ebdc7eb-2803-48e7-97d9-de510291f09d",
   "metadata": {},
   "outputs": [
    {
     "name": "stdout",
     "output_type": "stream",
     "text": [
      "Total Missing Values: 4\n"
     ]
    }
   ],
   "source": [
    "print(f\"Total Missing Values: {df.isna().sum().sum()}\")"
   ]
  },
  {
   "cell_type": "code",
   "execution_count": 23,
   "id": "4300b16f-c642-4ddc-800a-1a5f025e0a47",
   "metadata": {},
   "outputs": [
    {
     "name": "stdout",
     "output_type": "stream",
     "text": [
      "Percentage Missing: 33.33%\n"
     ]
    }
   ],
   "source": [
    "print(f\"Percentage Missing: {df.isna().mean().mean() * 100:.2f}%\")"
   ]
  },
  {
   "cell_type": "code",
   "execution_count": 25,
   "id": "ea14065d-e603-45cb-a6dc-f9ce5d2d24cf",
   "metadata": {},
   "outputs": [
    {
     "name": "stdout",
     "output_type": "stream",
     "text": [
      "     A    B  C\n",
      "0  1.0  5.0  a\n",
      "1  2.0  0.0  b\n",
      "2  0.0  0.0  c\n",
      "3  4.0  8.0  0\n"
     ]
    }
   ],
   "source": [
    "df_filled=df.fillna(0)\n",
    "print(df_filled)"
   ]
  },
  {
   "cell_type": "code",
   "execution_count": null,
   "id": "c55a7d66-9cc0-411c-9444-e8fd705594b7",
   "metadata": {},
   "outputs": [],
   "source": []
  },
  {
   "cell_type": "markdown",
   "id": "ebac37e6-0a5d-48d0-9289-e6cf337e28b2",
   "metadata": {},
   "source": [
    "# CSV to Dataframe"
   ]
  },
  {
   "cell_type": "code",
   "execution_count": 27,
   "id": "56610479-1b09-4cc6-9c1e-6e23035ea360",
   "metadata": {},
   "outputs": [],
   "source": [
    "df=pd.read_csv('DATA.csv')"
   ]
  },
  {
   "cell_type": "code",
   "execution_count": 28,
   "id": "046ddfdf-6ed5-4aa2-bbb1-988b9022f6fe",
   "metadata": {},
   "outputs": [
    {
     "data": {
      "text/html": [
       "<div>\n",
       "<style scoped>\n",
       "    .dataframe tbody tr th:only-of-type {\n",
       "        vertical-align: middle;\n",
       "    }\n",
       "\n",
       "    .dataframe tbody tr th {\n",
       "        vertical-align: top;\n",
       "    }\n",
       "\n",
       "    .dataframe thead th {\n",
       "        text-align: right;\n",
       "    }\n",
       "</style>\n",
       "<table border=\"1\" class=\"dataframe\">\n",
       "  <thead>\n",
       "    <tr style=\"text-align: right;\">\n",
       "      <th></th>\n",
       "      <th>Duration</th>\n",
       "      <th>Date</th>\n",
       "      <th>Pulse</th>\n",
       "      <th>Maxpulse</th>\n",
       "      <th>Calories</th>\n",
       "    </tr>\n",
       "  </thead>\n",
       "  <tbody>\n",
       "    <tr>\n",
       "      <th>0</th>\n",
       "      <td>22</td>\n",
       "      <td>12/22/2024</td>\n",
       "      <td>169</td>\n",
       "      <td>182</td>\n",
       "      <td>1872</td>\n",
       "    </tr>\n",
       "    <tr>\n",
       "      <th>1</th>\n",
       "      <td>228</td>\n",
       "      <td>8/18/2024</td>\n",
       "      <td>18</td>\n",
       "      <td>92</td>\n",
       "      <td>1901</td>\n",
       "    </tr>\n",
       "    <tr>\n",
       "      <th>2</th>\n",
       "      <td>301</td>\n",
       "      <td>11/14/2024</td>\n",
       "      <td>146</td>\n",
       "      <td>143</td>\n",
       "      <td>363</td>\n",
       "    </tr>\n",
       "    <tr>\n",
       "      <th>3</th>\n",
       "      <td>381</td>\n",
       "      <td>1/10/2025</td>\n",
       "      <td>158</td>\n",
       "      <td>64</td>\n",
       "      <td>1665</td>\n",
       "    </tr>\n",
       "    <tr>\n",
       "      <th>4</th>\n",
       "      <td>315</td>\n",
       "      <td>6/30/2024</td>\n",
       "      <td>78</td>\n",
       "      <td>131</td>\n",
       "      <td>1</td>\n",
       "    </tr>\n",
       "    <tr>\n",
       "      <th>...</th>\n",
       "      <td>...</td>\n",
       "      <td>...</td>\n",
       "      <td>...</td>\n",
       "      <td>...</td>\n",
       "      <td>...</td>\n",
       "    </tr>\n",
       "    <tr>\n",
       "      <th>195</th>\n",
       "      <td>2</td>\n",
       "      <td>1/8/2025</td>\n",
       "      <td>73</td>\n",
       "      <td>162</td>\n",
       "      <td>61</td>\n",
       "    </tr>\n",
       "    <tr>\n",
       "      <th>196</th>\n",
       "      <td>169</td>\n",
       "      <td>5/23/2024</td>\n",
       "      <td>187</td>\n",
       "      <td>114</td>\n",
       "      <td>1484</td>\n",
       "    </tr>\n",
       "    <tr>\n",
       "      <th>197</th>\n",
       "      <td>5</td>\n",
       "      <td>5/11/2024</td>\n",
       "      <td>109</td>\n",
       "      <td>194</td>\n",
       "      <td>1356</td>\n",
       "    </tr>\n",
       "    <tr>\n",
       "      <th>198</th>\n",
       "      <td>343</td>\n",
       "      <td>5/12/2024</td>\n",
       "      <td>155</td>\n",
       "      <td>156</td>\n",
       "      <td>864</td>\n",
       "    </tr>\n",
       "    <tr>\n",
       "      <th>199</th>\n",
       "      <td>110</td>\n",
       "      <td>10/30/2024</td>\n",
       "      <td>45</td>\n",
       "      <td>196</td>\n",
       "      <td>355</td>\n",
       "    </tr>\n",
       "  </tbody>\n",
       "</table>\n",
       "<p>200 rows × 5 columns</p>\n",
       "</div>"
      ],
      "text/plain": [
       "     Duration        Date  Pulse  Maxpulse  Calories\n",
       "0          22  12/22/2024    169       182      1872\n",
       "1         228   8/18/2024     18        92      1901\n",
       "2         301  11/14/2024    146       143       363\n",
       "3         381   1/10/2025    158        64      1665\n",
       "4         315   6/30/2024     78       131         1\n",
       "..        ...         ...    ...       ...       ...\n",
       "195         2    1/8/2025     73       162        61\n",
       "196       169   5/23/2024    187       114      1484\n",
       "197         5   5/11/2024    109       194      1356\n",
       "198       343   5/12/2024    155       156       864\n",
       "199       110  10/30/2024     45       196       355\n",
       "\n",
       "[200 rows x 5 columns]"
      ]
     },
     "execution_count": 28,
     "metadata": {},
     "output_type": "execute_result"
    }
   ],
   "source": [
    "df"
   ]
  },
  {
   "cell_type": "code",
   "execution_count": 30,
   "id": "e2776eaa-1fc4-4699-aa7f-9e03d78ab1ac",
   "metadata": {},
   "outputs": [
    {
     "data": {
      "text/html": [
       "<div>\n",
       "<style scoped>\n",
       "    .dataframe tbody tr th:only-of-type {\n",
       "        vertical-align: middle;\n",
       "    }\n",
       "\n",
       "    .dataframe tbody tr th {\n",
       "        vertical-align: top;\n",
       "    }\n",
       "\n",
       "    .dataframe thead th {\n",
       "        text-align: right;\n",
       "    }\n",
       "</style>\n",
       "<table border=\"1\" class=\"dataframe\">\n",
       "  <thead>\n",
       "    <tr style=\"text-align: right;\">\n",
       "      <th></th>\n",
       "      <th>Duration</th>\n",
       "      <th>Date</th>\n",
       "      <th>Pulse</th>\n",
       "      <th>Maxpulse</th>\n",
       "      <th>Calories</th>\n",
       "    </tr>\n",
       "  </thead>\n",
       "  <tbody>\n",
       "    <tr>\n",
       "      <th>0</th>\n",
       "      <td>22</td>\n",
       "      <td>12/22/2024</td>\n",
       "      <td>169</td>\n",
       "      <td>182</td>\n",
       "      <td>1872</td>\n",
       "    </tr>\n",
       "    <tr>\n",
       "      <th>1</th>\n",
       "      <td>228</td>\n",
       "      <td>8/18/2024</td>\n",
       "      <td>18</td>\n",
       "      <td>92</td>\n",
       "      <td>1901</td>\n",
       "    </tr>\n",
       "    <tr>\n",
       "      <th>2</th>\n",
       "      <td>301</td>\n",
       "      <td>11/14/2024</td>\n",
       "      <td>146</td>\n",
       "      <td>143</td>\n",
       "      <td>363</td>\n",
       "    </tr>\n",
       "    <tr>\n",
       "      <th>3</th>\n",
       "      <td>381</td>\n",
       "      <td>1/10/2025</td>\n",
       "      <td>158</td>\n",
       "      <td>64</td>\n",
       "      <td>1665</td>\n",
       "    </tr>\n",
       "    <tr>\n",
       "      <th>4</th>\n",
       "      <td>315</td>\n",
       "      <td>6/30/2024</td>\n",
       "      <td>78</td>\n",
       "      <td>131</td>\n",
       "      <td>1</td>\n",
       "    </tr>\n",
       "  </tbody>\n",
       "</table>\n",
       "</div>"
      ],
      "text/plain": [
       "   Duration        Date  Pulse  Maxpulse  Calories\n",
       "0        22  12/22/2024    169       182      1872\n",
       "1       228   8/18/2024     18        92      1901\n",
       "2       301  11/14/2024    146       143       363\n",
       "3       381   1/10/2025    158        64      1665\n",
       "4       315   6/30/2024     78       131         1"
      ]
     },
     "execution_count": 30,
     "metadata": {},
     "output_type": "execute_result"
    }
   ],
   "source": [
    "df.head() # first five data"
   ]
  },
  {
   "cell_type": "code",
   "execution_count": 32,
   "id": "c7edb625-48c1-49c7-9f92-9e700fffbf38",
   "metadata": {},
   "outputs": [
    {
     "data": {
      "text/html": [
       "<div>\n",
       "<style scoped>\n",
       "    .dataframe tbody tr th:only-of-type {\n",
       "        vertical-align: middle;\n",
       "    }\n",
       "\n",
       "    .dataframe tbody tr th {\n",
       "        vertical-align: top;\n",
       "    }\n",
       "\n",
       "    .dataframe thead th {\n",
       "        text-align: right;\n",
       "    }\n",
       "</style>\n",
       "<table border=\"1\" class=\"dataframe\">\n",
       "  <thead>\n",
       "    <tr style=\"text-align: right;\">\n",
       "      <th></th>\n",
       "      <th>Duration</th>\n",
       "      <th>Date</th>\n",
       "      <th>Pulse</th>\n",
       "      <th>Maxpulse</th>\n",
       "      <th>Calories</th>\n",
       "    </tr>\n",
       "  </thead>\n",
       "  <tbody>\n",
       "    <tr>\n",
       "      <th>195</th>\n",
       "      <td>2</td>\n",
       "      <td>1/8/2025</td>\n",
       "      <td>73</td>\n",
       "      <td>162</td>\n",
       "      <td>61</td>\n",
       "    </tr>\n",
       "    <tr>\n",
       "      <th>196</th>\n",
       "      <td>169</td>\n",
       "      <td>5/23/2024</td>\n",
       "      <td>187</td>\n",
       "      <td>114</td>\n",
       "      <td>1484</td>\n",
       "    </tr>\n",
       "    <tr>\n",
       "      <th>197</th>\n",
       "      <td>5</td>\n",
       "      <td>5/11/2024</td>\n",
       "      <td>109</td>\n",
       "      <td>194</td>\n",
       "      <td>1356</td>\n",
       "    </tr>\n",
       "    <tr>\n",
       "      <th>198</th>\n",
       "      <td>343</td>\n",
       "      <td>5/12/2024</td>\n",
       "      <td>155</td>\n",
       "      <td>156</td>\n",
       "      <td>864</td>\n",
       "    </tr>\n",
       "    <tr>\n",
       "      <th>199</th>\n",
       "      <td>110</td>\n",
       "      <td>10/30/2024</td>\n",
       "      <td>45</td>\n",
       "      <td>196</td>\n",
       "      <td>355</td>\n",
       "    </tr>\n",
       "  </tbody>\n",
       "</table>\n",
       "</div>"
      ],
      "text/plain": [
       "     Duration        Date  Pulse  Maxpulse  Calories\n",
       "195         2    1/8/2025     73       162        61\n",
       "196       169   5/23/2024    187       114      1484\n",
       "197         5   5/11/2024    109       194      1356\n",
       "198       343   5/12/2024    155       156       864\n",
       "199       110  10/30/2024     45       196       355"
      ]
     },
     "execution_count": 32,
     "metadata": {},
     "output_type": "execute_result"
    }
   ],
   "source": [
    "df.tail() # last 5 data"
   ]
  },
  {
   "cell_type": "code",
   "execution_count": 34,
   "id": "c3a81328-82ed-49eb-a2d2-44133c180337",
   "metadata": {},
   "outputs": [
    {
     "data": {
      "text/html": [
       "<div>\n",
       "<style scoped>\n",
       "    .dataframe tbody tr th:only-of-type {\n",
       "        vertical-align: middle;\n",
       "    }\n",
       "\n",
       "    .dataframe tbody tr th {\n",
       "        vertical-align: top;\n",
       "    }\n",
       "\n",
       "    .dataframe thead th {\n",
       "        text-align: right;\n",
       "    }\n",
       "</style>\n",
       "<table border=\"1\" class=\"dataframe\">\n",
       "  <thead>\n",
       "    <tr style=\"text-align: right;\">\n",
       "      <th></th>\n",
       "      <th>Duration</th>\n",
       "      <th>Date</th>\n",
       "      <th>Pulse</th>\n",
       "      <th>Maxpulse</th>\n",
       "      <th>Calories</th>\n",
       "    </tr>\n",
       "  </thead>\n",
       "  <tbody>\n",
       "    <tr>\n",
       "      <th>0</th>\n",
       "      <td>22</td>\n",
       "      <td>12/22/2024</td>\n",
       "      <td>169</td>\n",
       "      <td>182</td>\n",
       "      <td>1872</td>\n",
       "    </tr>\n",
       "    <tr>\n",
       "      <th>1</th>\n",
       "      <td>228</td>\n",
       "      <td>8/18/2024</td>\n",
       "      <td>18</td>\n",
       "      <td>92</td>\n",
       "      <td>1901</td>\n",
       "    </tr>\n",
       "    <tr>\n",
       "      <th>2</th>\n",
       "      <td>301</td>\n",
       "      <td>11/14/2024</td>\n",
       "      <td>146</td>\n",
       "      <td>143</td>\n",
       "      <td>363</td>\n",
       "    </tr>\n",
       "    <tr>\n",
       "      <th>3</th>\n",
       "      <td>381</td>\n",
       "      <td>1/10/2025</td>\n",
       "      <td>158</td>\n",
       "      <td>64</td>\n",
       "      <td>1665</td>\n",
       "    </tr>\n",
       "    <tr>\n",
       "      <th>4</th>\n",
       "      <td>315</td>\n",
       "      <td>6/30/2024</td>\n",
       "      <td>78</td>\n",
       "      <td>131</td>\n",
       "      <td>1</td>\n",
       "    </tr>\n",
       "    <tr>\n",
       "      <th>5</th>\n",
       "      <td>363</td>\n",
       "      <td>11/17/2024</td>\n",
       "      <td>197</td>\n",
       "      <td>177</td>\n",
       "      <td>239</td>\n",
       "    </tr>\n",
       "    <tr>\n",
       "      <th>6</th>\n",
       "      <td>268</td>\n",
       "      <td>11/13/2024</td>\n",
       "      <td>85</td>\n",
       "      <td>24</td>\n",
       "      <td>1528</td>\n",
       "    </tr>\n",
       "    <tr>\n",
       "      <th>7</th>\n",
       "      <td>480</td>\n",
       "      <td>12/29/2024</td>\n",
       "      <td>105</td>\n",
       "      <td>78</td>\n",
       "      <td>1949</td>\n",
       "    </tr>\n",
       "    <tr>\n",
       "      <th>8</th>\n",
       "      <td>386</td>\n",
       "      <td>3/24/2025</td>\n",
       "      <td>121</td>\n",
       "      <td>24</td>\n",
       "      <td>1677</td>\n",
       "    </tr>\n",
       "    <tr>\n",
       "      <th>9</th>\n",
       "      <td>340</td>\n",
       "      <td>1/24/2025</td>\n",
       "      <td>129</td>\n",
       "      <td>180</td>\n",
       "      <td>816</td>\n",
       "    </tr>\n",
       "  </tbody>\n",
       "</table>\n",
       "</div>"
      ],
      "text/plain": [
       "   Duration        Date  Pulse  Maxpulse  Calories\n",
       "0        22  12/22/2024    169       182      1872\n",
       "1       228   8/18/2024     18        92      1901\n",
       "2       301  11/14/2024    146       143       363\n",
       "3       381   1/10/2025    158        64      1665\n",
       "4       315   6/30/2024     78       131         1\n",
       "5       363  11/17/2024    197       177       239\n",
       "6       268  11/13/2024     85        24      1528\n",
       "7       480  12/29/2024    105        78      1949\n",
       "8       386   3/24/2025    121        24      1677\n",
       "9       340   1/24/2025    129       180       816"
      ]
     },
     "execution_count": 34,
     "metadata": {},
     "output_type": "execute_result"
    }
   ],
   "source": [
    "df.head(10) # read top 10 datas"
   ]
  },
  {
   "cell_type": "code",
   "execution_count": null,
   "id": "4ade31a4-c001-4a1e-b335-6a56a2e23841",
   "metadata": {},
   "outputs": [],
   "source": []
  }
 ],
 "metadata": {
  "kernelspec": {
   "display_name": "Python 3 (ipykernel)",
   "language": "python",
   "name": "python3"
  },
  "language_info": {
   "codemirror_mode": {
    "name": "ipython",
    "version": 3
   },
   "file_extension": ".py",
   "mimetype": "text/x-python",
   "name": "python",
   "nbconvert_exporter": "python",
   "pygments_lexer": "ipython3",
   "version": "3.10.1"
  }
 },
 "nbformat": 4,
 "nbformat_minor": 5
}
